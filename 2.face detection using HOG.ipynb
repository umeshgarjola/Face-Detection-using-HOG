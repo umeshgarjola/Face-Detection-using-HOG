{
 "cells": [
  {
   "cell_type": "code",
   "execution_count": null,
   "id": "83dfa81b",
   "metadata": {},
   "outputs": [],
   "source": [
    "#1.made training data(human face,moon text coin)\n",
    "#2.ganerate random sample using patch extractor\n",
    "#3.x_train=convert in array to feature vector of hog using feature.hog(image)\n",
    "#4.put y_train =0 or 1\n",
    "#5.fit on SVM\n",
    "#6.resize test image obtain HOG using np.array([feature.hog(test_image)])\n",
    "#7.predict using SVM\n",
    "\n"
   ]
  },
  {
   "cell_type": "code",
   "execution_count": null,
   "id": "b1d630c9",
   "metadata": {
    "id": "b1d630c9"
   },
   "outputs": [],
   "source": [
    "from skimage import data, feature, transform\n",
    "import matplotlib.pyplot as plt\n",
    "from sklearn.svm import LinearSVC\n",
    "from skimage.io import imread\n",
    "from itertools import chain\n",
    "from sklearn.datasets import fetch_lfw_people\n",
    "from sklearn.feature_extraction.image import PatchExtractor\n",
    "import numpy as np"
   ]
  },
  {
   "cell_type": "code",
   "execution_count": 2,
   "id": "b1532aff",
   "metadata": {
    "id": "b1532aff"
   },
   "outputs": [],
   "source": [
    "# we can load a data-set of human faces (positive samples)\n",
    "human_faces = fetch_lfw_people()\n",
    "positive_images = human_faces.images[:10000]\n",
    "\n",
    "# fetch a data-set without faces (negative samples)\n",
    "\n",
    "non_face_topics = ['moon', 'text', 'coins']\n",
    "\n",
    "negative_samples = [(getattr(data, name)()) for name in non_face_topics]"
   ]
  },
  {
   "cell_type": "code",
   "execution_count": 3,
   "id": "9e831ce2",
   "metadata": {
    "id": "9e831ce2"
   },
   "outputs": [],
   "source": [
    "# we will use PatchExtractor to generate several variants of these images\n",
    "def generate_random_samples(image, num_of_generated_images=100, patch_size=positive_images[0].shape):\n",
    "    extractor = PatchExtractor(patch_size=patch_size, max_patches=num_of_generated_images, random_state=42)\n",
    "    patches = extractor.transform((image[np.newaxis]))\n",
    "    return patches"
   ]
  },
  {
   "cell_type": "code",
   "execution_count": 4,
   "id": "47f6f322",
   "metadata": {
    "colab": {
     "base_uri": "https://localhost:8080/"
    },
    "id": "47f6f322",
    "outputId": "a304ae75-69f7-4b48-a116-eb11d4c44cff"
   },
   "outputs": [
    {
     "data": {
      "text/plain": [
       "LinearSVC()"
      ]
     },
     "execution_count": 4,
     "metadata": {},
     "output_type": "execute_result"
    }
   ],
   "source": [
    "# we generate 3000 samples (negative samples without a human face)\n",
    "negative_images = np.vstack([generate_random_samples(im, 1000) for im in negative_samples])\n",
    "\n",
    "# we construct the training set with the output variables (labels)\n",
    "# and we have to construct the HOG features\n",
    "\n",
    "X_train = np.array([feature.hog(image) for image in chain(positive_images, negative_images)])\n",
    "# labels - 0 and 1 // 1: face 0: non-face\n",
    "y_train = np.zeros(X_train.shape[0])\n",
    "y_train[:positive_images.shape[0]] = 1\n",
    "\n",
    "# we can construct the SVM\n",
    "svm = LinearSVC()\n",
    "# this is when SVM learns the parameters for the model based on the training dataset\n",
    "svm.fit(X_train, y_train)\n"
   ]
  },
  {
   "cell_type": "code",
   "execution_count": 7,
   "id": "6fa464a9",
   "metadata": {
    "colab": {
     "base_uri": "https://localhost:8080/",
     "height": 285
    },
    "id": "6fa464a9",
    "outputId": "2666c59a-7e3a-4afb-9315-91f90ef78add"
   },
   "outputs": [
    {
     "data": {
      "image/png": "[encoded data removed]",
      "text/plain": [
       "<Figure size 432x288 with 1 Axes>"
      ]
     },
     "metadata": {
      "needs_background": "light"
     },
     "output_type": "display_data"
    },
    {
     "name": "stdout",
     "output_type": "stream",
     "text": [
      "Prediction made by SVM: 0.000000\n"
     ]
    }
   ],
   "source": [
    "# read the test images\n",
    "test_image = imread(fname='bird.jpg')\n",
    "test_image = transform.resize(test_image, positive_images[0].shape)\n",
    "\n",
    "plt.imshow(test_image, cmap='gray')\n",
    "plt.show()\n",
    "\n",
    "test_image_hog = np.array([feature.hog(test_image)])\n",
    "prediction = svm.predict(test_image_hog)\n",
    "print(\"Prediction made by SVM: %f\" % prediction)\n"
   ]
  },
  {
   "cell_type": "code",
   "execution_count": null,
   "id": "e85f8878",
   "metadata": {},
   "outputs": [],
   "source": [
    "# read the test images\n",
    "test_image = imread(fname='bird.jpg')\n",
    "test_image = transform.resize(test_image, positive_images[0].shape)\n",
    "\n",
    "plt.imshow(test_image, cmap='gray')\n",
    "plt.show()\n",
    "\n",
    "test_image_hog = np.array([feature.hog(test_image)])\n",
    "prediction = svm.predict(test_image_hog)\n",
    "print(\"Prediction made by SVM: %f\" % prediction)"
   ]
  }
 ],
 "metadata": {
  "colab": {
   "name": "2.face detection using HOG.ipynb",
   "provenance": []
  },
  "kernelspec": {
   "display_name": "Python 3",
   "language": "python",
   "name": "python3"
  },
  "language_info": {
   "codemirror_mode": {
    "name": "ipython",
    "version": 3
   },
   "file_extension": ".py",
   "mimetype": "text/x-python",
   "name": "python",
   "nbconvert_exporter": "python",
   "pygments_lexer": "ipython3",
   "version": "3.8.8"
  }
 },
 "nbformat": 4,
 "nbformat_minor": 5
}
